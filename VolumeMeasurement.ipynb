{
 "cells": [
  {
   "cell_type": "code",
   "execution_count": 72,
   "metadata": {},
   "outputs": [],
   "source": [
    "import cv2 as cv\n",
    "import numpy as np\n",
    "import matplotlib.pyplot as plt\n",
    "%matplotlib inline\n",
    "\n",
    "from PIL import Image\n",
    "\n",
    "# global variables\n",
    "WIDTH = 1280\n",
    "HEIGHT = 853\n",
    "WINDOW = \"Volume Measurment Tests\"\n",
    "THRESH_MAX = 150\n",
    "MAX_VAL = 150\n",
    "\n",
    "# creating parameter window\n",
    "# def empty(a):\n",
    "#     pass\n",
    "# cv.namedWindow(\"Parameters\", cv.WINDOW_NORMAL)\n",
    "# cv.resizeWindow(\"Parameters\", 600, 100)\n",
    "# cv.createTrackbar(\"Threshold\", \"Parameters\", 0, 255, empty)\n",
    "# cv.createTrackbar(\"Max Value\", \"Parameters\", 0, 255, empty)\n",
    "\n",
    "# importing raw image\n",
    "raw = Image.open(\"IMG_0367.CR2\").convert('RGB')\n",
    "\n",
    "#converting it to a numpy.array for opencv\n",
    "img = np.array(raw) # in RGB\n",
    "img = cv.cvtColor(img, cv.COLOR_RGB2BGR)\n",
    "\n",
    "# converting img to grayscale\n",
    "gray = cv.cvtColor(img, cv.COLOR_RGB2GRAY)\n",
    "\n",
    "# adding trackbars\n",
    "# def thresh_trackbar(val):\n",
    "#     # applying binary threshold\n",
    "#     return cv.threshold(gray, val, 250, cv.THRESH_BINARY)\n",
    "# def maxval_trackbar(val):\n",
    "#     # applying binary threshold\n",
    "#     return cv.threshold(gray, val, 250, cv.THRESH_BINARY)\n",
    "\n",
    "# threshold = cv.getTrackbarPos(\"Threshold\", \"Parameters\")\n",
    "# maxval = cv.getTrackbarPos(\"Max Value\", \"Parameters\")\n",
    "\n",
    "\n",
    "# trackbar_name = 'Alpha x %d' % THRESH_MAX\n",
    "# cv.createTrackbar(trackbar_name, WINDOW , 0, THRESH_MAX, on_trackbar)\n",
    "\n",
    "\n",
    "# applying binary threshold\n",
    "ret, thresh = cv.threshold(gray, 15, 100, cv.THRESH_BINARY)\n",
    "thresh_blur = cv.GaussianBlur(thresh, (11, 11), 0)\n",
    "contours, _ = cv.findContours(thresh_blur, cv.RETR_TREE, cv.CHAIN_APPROX_NONE)\n",
    "\n",
    "blurred = cv.GaussianBlur(gray, (101,101), 0)\n",
    "\n",
    "edges = cv.Canny(blurred, 1, 6)\n",
    "        \n",
    "        \n",
    "def max_contour(list):\n",
    "    largest = list[0]\n",
    "    for cnt in list:\n",
    "        if cnt.shape[0] > largest.shape[0]:\n",
    "            largest = cnt\n",
    "    return largest\n",
    "\n"
   ]
  },
  {
   "cell_type": "code",
   "execution_count": 68,
   "metadata": {},
   "outputs": [],
   "source": [
    "# Find the rotated rectangles and ellipses for each contour\n",
    "minRect = [None]*len(contours)\n",
    "minEllipse = [None]*len(contours)\n",
    "for i, c in enumerate(contours):\n",
    "    minRect[i] = cv.minAreaRect(c)\n",
    "    if c.shape[0] > 30:\n",
    "        minEllipse[i] = cv.fitEllipse(c)\n",
    "\n",
    "        \n",
    "# Find fitting line\n",
    "lines = [None]*len(contours)\n",
    "for i, cont in enumerate(contours):\n",
    "    if cont.shape[0] > 30:\n",
    "        lines[i] = cv.fitLine(cont, cv.DIST_L2,0,0.01,0.01) # [vx,vy,x,y]"
   ]
  },
  {
   "cell_type": "code",
   "execution_count": 69,
   "metadata": {},
   "outputs": [],
   "source": [
    "ballon_contour = max_contour(contours)\n",
    "ballon_ellipse = cv.fitEllipse(ballon_contour)\n",
    "\n",
    "# draw the contour and ellipse\n",
    "img_overlay = img.copy()\n",
    "cv.drawContours(img_overlay, ballon_contour, -1, (0,255,0), 5, lineType=cv.LINE_AA)\n",
    "cv.ellipse(img_overlay, ballon_ellipse, (0,0,255), 5)\n",
    "# for i, cont in enumerate(contours):\n",
    "#     cv.drawContours(img_overlay, contours, -1, (0, 255, 0), 5, lineType=cv.LINE_AA)\n",
    "#     if cont.shape[0] > 30:\n",
    "#         #ellipses\n",
    "#         cv.ellipse(img_overlay, minEllipse[i], (0, 0, 255), 5) \n",
    "\n",
    "\n",
    "cv.namedWindow(WINDOW, cv.WINDOW_NORMAL)\n",
    "cv.imshow(WINDOW, img_overlay)\n",
    "cv.resizeWindow(WINDOW, WIDTH, HEIGHT)\n",
    "cv.waitKey(0)\n",
    "cv.imwrite('Balloon with Contours and Fitted Ellipse.png', img_overlay)\n",
    "cv.destroyAllWindows()"
   ]
  },
  {
   "cell_type": "code",
   "execution_count": 46,
   "metadata": {},
   "outputs": [],
   "source": [
    "# draw the contours and ellipses\n",
    "img_overlay = img.copy()\n",
    "for i, cont in enumerate(contours):\n",
    "    cv.drawContours(img_overlay, contours, -1, (0, 255, 0), 5, lineType=cv.LINE_AA)\n",
    "    if cont.shape[0] > 30:\n",
    "        #ellipses\n",
    "        cv.ellipse(img_overlay, minEllipse[i], (0, 0, 255), 5) \n",
    "\n",
    "\n",
    "cv.namedWindow(WINDOW, cv.WINDOW_NORMAL)\n",
    "cv.imshow(WINDOW, img_overlay)\n",
    "cv.resizeWindow(WINDOW, WIDTH, HEIGHT)\n",
    "cv.waitKey(0)\n",
    "cv.imwrite('Balloon with Contours and Fitted Ellipse.png', img_overlay)\n",
    "cv.destroyAllWindows()"
   ]
  },
  {
   "cell_type": "code",
   "execution_count": 49,
   "metadata": {},
   "outputs": [
    {
     "data": {
      "text/plain": [
       "True"
      ]
     },
     "execution_count": 49,
     "metadata": {},
     "output_type": "execute_result"
    }
   ],
   "source": [
    "# draw the contours and lines\n",
    "img_overlay = img.copy()\n",
    "for i, cont in enumerate(contours):\n",
    "    if cont.shape[0] > 5000:\n",
    "        cv.drawContours(img_overlay, cont, -1, (0, 255, 0), 5, lineType=cv.LINE_AA)\n",
    "        vx, vy, x, y = lines[i]\n",
    "        left = int((-x * vy/vx) + y)\n",
    "        right = int(((img_overlay.shape[1]-x) *vy/vx) + y)\n",
    "        cv.line(img_overlay, (img_overlay.shape[1]-1, right), (0, left), (255, 0, 0), 5)\n",
    "\n",
    "cv.namedWindow(WINDOW, cv.WINDOW_NORMAL)\n",
    "cv.imshow(WINDOW, img_overlay)\n",
    "cv.resizeWindow(WINDOW, WIDTH, HEIGHT)\n",
    "cv.waitKey(0)\n",
    "cv.destroyAllWindows()\n",
    "cv.imwrite('Balloon with Contours and Fitted Line.png', img_overlay)"
   ]
  }
 ],
 "metadata": {
  "kernelspec": {
   "display_name": "Python 3",
   "language": "python",
   "name": "python3"
  },
  "language_info": {
   "codemirror_mode": {
    "name": "ipython",
    "version": 3
   },
   "file_extension": ".py",
   "mimetype": "text/x-python",
   "name": "python",
   "nbconvert_exporter": "python",
   "pygments_lexer": "ipython3",
   "version": "3.11.4"
  }
 },
 "nbformat": 4,
 "nbformat_minor": 2
}
